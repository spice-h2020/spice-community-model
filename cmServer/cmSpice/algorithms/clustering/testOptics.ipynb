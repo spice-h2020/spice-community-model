{
 "cells": [
  {
   "cell_type": "code",
   "execution_count": 54,
   "metadata": {
    "collapsed": true,
    "pycharm": {
     "name": "#%%\n"
    }
   },
   "outputs": [],
   "source": [
    "from sklearn.datasets import make_blobs\n",
    "from sklearn.cluster import OPTICS\n",
    "from sklearn.cluster import DBSCAN\n",
    "\n",
    "import numpy as np\n",
    "import matplotlib.pyplot as plt"
   ]
  },
  {
   "cell_type": "code",
   "execution_count": 55,
   "outputs": [],
   "source": [
    "np.random.seed(0)\n",
    "\n",
    "batch_size = 45\n",
    "centers = [[1, 1], [-1, -1], [1, -1], [-1, 1]]\n",
    "n_clusterss = len(centers)\n",
    "X, labels_true = make_blobs(n_samples=100, centers=centers, cluster_std=0.7)"
   ],
   "metadata": {
    "collapsed": false,
    "pycharm": {
     "name": "#%%\n"
    }
   }
  },
  {
   "cell_type": "code",
   "execution_count": 58,
   "outputs": [
    {
     "name": "stdout",
     "output_type": "stream",
     "text": [
      "calculating optics algorithm\n",
      "number of clusters: 6\n",
      "param: 0.9\n",
      "clusters\n",
      "0\n",
      "\n",
      "\n",
      "calculating optics algorithm\n",
      "number of clusters: 6\n",
      "param: 0.8\n",
      "clusters\n",
      "1\n",
      "\n",
      "\n",
      "calculating optics algorithm\n",
      "number of clusters: 6\n",
      "param: 0.7000000000000001\n",
      "clusters\n",
      "1\n",
      "\n",
      "\n",
      "calculating optics algorithm\n",
      "number of clusters: 6\n",
      "param: 0.6000000000000001\n",
      "clusters\n",
      "1\n",
      "\n",
      "\n",
      "calculating optics algorithm\n",
      "number of clusters: 6\n",
      "param: 0.5000000000000001\n",
      "clusters\n",
      "1\n",
      "\n",
      "\n",
      "calculating optics algorithm\n",
      "number of clusters: 6\n",
      "param: 0.40000000000000013\n",
      "clusters\n",
      "1\n",
      "\n",
      "\n",
      "calculating optics algorithm\n",
      "number of clusters: 6\n",
      "param: 0.30000000000000016\n",
      "clusters\n",
      "1\n",
      "\n",
      "\n",
      "calculating optics algorithm\n",
      "number of clusters: 6\n",
      "param: 0.20000000000000015\n",
      "clusters\n",
      "1\n",
      "\n",
      "\n",
      "calculating optics algorithm\n",
      "number of clusters: 6\n",
      "param: 0.10000000000000014\n",
      "clusters\n",
      "1\n",
      "\n",
      "\n",
      "calculating optics algorithm\n",
      "number of clusters: 6\n",
      "param: 1.3877787807814457e-16\n",
      "clusters\n",
      "1\n",
      "\n",
      "\n",
      "calculating optics algorithm\n",
      "number of clusters: 6\n",
      "param: -0.09999999999999987\n",
      "clusters\n",
      "1\n",
      "\n",
      "\n",
      "calculating dbscan algorithm\n",
      "number of clusters: 6\n",
      "param: -0.19999999999999987\n",
      "clusters\n",
      "[0 0 0 0 0 0 0 0 0 0 0 0 0 0 0 0 0 0 0 0 0 0 0 0 0 0 0 0 0 0 0 0 0 0 0 0 0\n",
      " 0 0 0 0 0 0 0 0 0 0 0 0 0 0 0 0 0 0 0 0 0 0 0 0 0 0 0 0 0 0 0 0 0 0 0 0 0\n",
      " 0 0 0 0 0 0 0 0 0 0 0 0 0 0 0 0 0 0 0 0 0 0 0 0 0 0]\n",
      "\n",
      "\n"
     ]
    }
   ],
   "source": [
    "\n",
    "max_eps = 66\n",
    "xi = .05\n",
    "\n",
    "n_clusters = 6\n",
    "\n",
    "clusters = []\n",
    "epsParameter = 1\n",
    "\n",
    "while len(set(clusters)) < n_clusters and epsParameter > 0:\n",
    "    epsParameter -= 0.1\n",
    "    print(\"calculating optics algorithm\")\n",
    "    print(\"number of clusters: \" + str(n_clusters))\n",
    "    print(\"param: \" + str(epsParameter))\n",
    "\n",
    "    print(\"clusters\")\n",
    "    print(len(set(clusters)))\n",
    "    print(\"\\n\")\n",
    "    # run dbscan\n",
    "    optics_model = OPTICS(min_samples=1,min_cluster_size=1, xi=epsParameter)\n",
    "    optics_model.fit(X)\n",
    "\n",
    "    # Get clusters\n",
    "    clusters = optics_model.labels_\n",
    "\n",
    "epsParameter -= 0.1\n",
    "print(\"calculating dbscan algorithm\")\n",
    "print(\"number of clusters: \" + str(n_clusters))\n",
    "print(\"param: \" + str(epsParameter))\n",
    "\n",
    "print(\"clusters\")\n",
    "print(clusters)\n",
    "print(\"\\n\")"
   ],
   "metadata": {
    "collapsed": false,
    "pycharm": {
     "name": "#%%\n"
    }
   }
  }
 ],
 "metadata": {
  "kernelspec": {
   "display_name": "Python 3",
   "language": "python",
   "name": "python3"
  },
  "language_info": {
   "codemirror_mode": {
    "name": "ipython",
    "version": 2
   },
   "file_extension": ".py",
   "mimetype": "text/x-python",
   "name": "python",
   "nbconvert_exporter": "python",
   "pygments_lexer": "ipython2",
   "version": "2.7.6"
  }
 },
 "nbformat": 4,
 "nbformat_minor": 0
}
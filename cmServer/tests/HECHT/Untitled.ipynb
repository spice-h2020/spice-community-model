{
 "cells": [
  {
   "cell_type": "code",
   "execution_count": 31,
   "id": "3011192a",
   "metadata": {},
   "outputs": [],
   "source": [
    "import pandas as pd\n",
    "from pyvis.network import Network # Visualización de los grafos\n",
    "\n",
    "import random\n",
    "import matplotlib.pyplot as plt # Para seleccionar colores aleatorios (necesito nº comunidades a pintar)"
   ]
  },
  {
   "cell_type": "code",
   "execution_count": 45,
   "id": "3c560bac",
   "metadata": {},
   "outputs": [],
   "source": [
    "def get_random_colors(n_communities):\n",
    "    colors = [\"#\"+''.join([random.choice('0123456789ABCDEF') for i in range(6)])]\n",
    "    return colors"
   ]
  },
  {
   "cell_type": "code",
   "execution_count": 33,
   "id": "1e6c691c",
   "metadata": {},
   "outputs": [
    {
     "data": {
      "text/html": [
       "<div>\n",
       "<style scoped>\n",
       "    .dataframe tbody tr th:only-of-type {\n",
       "        vertical-align: middle;\n",
       "    }\n",
       "\n",
       "    .dataframe tbody tr th {\n",
       "        vertical-align: top;\n",
       "    }\n",
       "\n",
       "    .dataframe thead th {\n",
       "        text-align: right;\n",
       "    }\n",
       "</style>\n",
       "<table border=\"1\" class=\"dataframe\">\n",
       "  <thead>\n",
       "    <tr style=\"text-align: right;\">\n",
       "      <th></th>\n",
       "      <th>userId</th>\n",
       "      <th>DemographicEducationType</th>\n",
       "      <th>DemographicGender</th>\n",
       "      <th>DemographicGrade</th>\n",
       "      <th>DemographicIdentity</th>\n",
       "      <th>DemographicPolitics</th>\n",
       "      <th>DemographicReligous</th>\n",
       "      <th>community</th>\n",
       "    </tr>\n",
       "  </thead>\n",
       "  <tbody>\n",
       "    <tr>\n",
       "      <th>0</th>\n",
       "      <td>NR111300</td>\n",
       "      <td>GJ</td>\n",
       "      <td>M</td>\n",
       "      <td>11</td>\n",
       "      <td>J</td>\n",
       "      <td>VR</td>\n",
       "      <td>S</td>\n",
       "      <td>6</td>\n",
       "    </tr>\n",
       "    <tr>\n",
       "      <th>1</th>\n",
       "      <td>NR111352</td>\n",
       "      <td>GJ</td>\n",
       "      <td>M</td>\n",
       "      <td>11</td>\n",
       "      <td>J</td>\n",
       "      <td>R</td>\n",
       "      <td>S</td>\n",
       "      <td>5</td>\n",
       "    </tr>\n",
       "    <tr>\n",
       "      <th>2</th>\n",
       "      <td>NR112800</td>\n",
       "      <td>GJ</td>\n",
       "      <td>M</td>\n",
       "      <td>11</td>\n",
       "      <td>J</td>\n",
       "      <td>R</td>\n",
       "      <td>S</td>\n",
       "      <td>5</td>\n",
       "    </tr>\n",
       "    <tr>\n",
       "      <th>3</th>\n",
       "      <td>NR115421</td>\n",
       "      <td>GJ</td>\n",
       "      <td>F</td>\n",
       "      <td>11</td>\n",
       "      <td>J</td>\n",
       "      <td>R</td>\n",
       "      <td>S</td>\n",
       "      <td>25</td>\n",
       "    </tr>\n",
       "    <tr>\n",
       "      <th>4</th>\n",
       "      <td>NR116510</td>\n",
       "      <td>GJ</td>\n",
       "      <td>F</td>\n",
       "      <td>11</td>\n",
       "      <td>J</td>\n",
       "      <td>VR</td>\n",
       "      <td>M</td>\n",
       "      <td>1</td>\n",
       "    </tr>\n",
       "  </tbody>\n",
       "</table>\n",
       "</div>"
      ],
      "text/plain": [
       "     userId DemographicEducationType DemographicGender  DemographicGrade  \\\n",
       "0  NR111300                       GJ                 M                11   \n",
       "1  NR111352                       GJ                 M                11   \n",
       "2  NR112800                       GJ                 M                11   \n",
       "3  NR115421                       GJ                 F                11   \n",
       "4  NR116510                       GJ                 F                11   \n",
       "\n",
       "  DemographicIdentity DemographicPolitics DemographicReligous  community  \n",
       "0                   J                  VR                   S          6  \n",
       "1                   J                   R                   S          5  \n",
       "2                   J                   R                   S          5  \n",
       "3                   J                   R                   S         25  \n",
       "4                   J                  VR                   M          1  "
      ]
     },
     "execution_count": 33,
     "metadata": {},
     "output_type": "execute_result"
    }
   ],
   "source": [
    "hetch_nodes = pd.read_csv('../../data/HECHT/open_communities.csv')\n",
    "hetch_nodes.head()"
   ]
  },
  {
   "cell_type": "code",
   "execution_count": null,
   "id": "9cc61999",
   "metadata": {},
   "outputs": [],
   "source": [
    "hetch_forces = pd."
   ]
  },
  {
   "cell_type": "code",
   "execution_count": 39,
   "id": "ed2518ce",
   "metadata": {},
   "outputs": [
    {
     "data": {
      "text/plain": [
       "26"
      ]
     },
     "execution_count": 39,
     "metadata": {},
     "output_type": "execute_result"
    }
   ],
   "source": [
    "len(hetch_nodes.groupby(by='community').count())"
   ]
  },
  {
   "cell_type": "code",
   "execution_count": 28,
   "id": "cb0daac8",
   "metadata": {},
   "outputs": [],
   "source": [
    "net = Network(notebook = True)\n",
    "\n",
    "for u in range(len(hetch_nodes.values)):\n",
    "    net.add_node(u, label=hetch_nodes.values[u][7])\n",
    "\n"
   ]
  },
  {
   "cell_type": "code",
   "execution_count": 30,
   "id": "245d6fb3",
   "metadata": {},
   "outputs": [
    {
     "data": {
      "text/html": [
       "\n",
       "        <iframe\n",
       "            width=\"500px\"\n",
       "            height=\"500px\"\n",
       "            src=\"nodes.html\"\n",
       "            frameborder=\"0\"\n",
       "            allowfullscreen\n",
       "        ></iframe>\n",
       "        "
      ],
      "text/plain": [
       "<IPython.lib.display.IFrame at 0x11cacf0d0>"
      ]
     },
     "execution_count": 30,
     "metadata": {},
     "output_type": "execute_result"
    }
   ],
   "source": [
    "net.show_buttons(filter_=['physics'])\n",
    "net.show('nodes.html')\n"
   ]
  },
  {
   "cell_type": "code",
   "execution_count": 13,
   "id": "395e9e7f-ab40-4968-9149-c57dfcc76211",
   "metadata": {},
   "outputs": [],
   "source": [
    "import networkx as nx\n",
    "import matplotlib.pyplot as plt"
   ]
  },
  {
   "cell_type": "code",
   "execution_count": 3,
   "id": "c0bfe57b",
   "metadata": {},
   "outputs": [],
   "source": [
    "G = nx.Graph()"
   ]
  },
  {
   "cell_type": "code",
   "execution_count": 4,
   "id": "a19a76d3",
   "metadata": {},
   "outputs": [],
   "source": [
    "nodes = [\n",
    "    (1, {\"userId\": 'N4536', \"community\": 1}),\n",
    "    (2, {\"userId\": 'N4567', \"community\": 2})\n",
    "]"
   ]
  },
  {
   "cell_type": "code",
   "execution_count": 5,
   "id": "e47b6ad3",
   "metadata": {},
   "outputs": [],
   "source": [
    "G.add_nodes_from(nodes)"
   ]
  },
  {
   "cell_type": "code",
   "execution_count": 11,
   "id": "6a45310b",
   "metadata": {},
   "outputs": [],
   "source": [
    "edges = [(1, 2, {'similarity': '0.78'})]"
   ]
  },
  {
   "cell_type": "code",
   "execution_count": 12,
   "id": "bd291d7b",
   "metadata": {},
   "outputs": [],
   "source": [
    "G.add_edges_from(edges)"
   ]
  },
  {
   "cell_type": "code",
   "execution_count": 14,
   "id": "2371114d",
   "metadata": {},
   "outputs": [
    {
     "data": {
      "image/png": "[encoded data removed]",
      "text/plain": [
       "<Figure size 432x288 with 1 Axes>"
      ]
     },
     "metadata": {},
     "output_type": "display_data"
    }
   ],
   "source": [
    "nx.draw(G)"
   ]
  },
  {
   "cell_type": "code",
   "execution_count": 17,
   "id": "e39a8e4c",
   "metadata": {},
   "outputs": [],
   "source": [
    "G = nx.path_graph(4)\n",
    "pos = nx.spring_layout(G)"
   ]
  },
  {
   "cell_type": "code",
   "execution_count": 21,
   "id": "b509103e",
   "metadata": {},
   "outputs": [
    {
     "data": {
      "image/png": "[encoded data removed]",
      "text/plain": [
       "<Figure size 432x288 with 1 Axes>"
      ]
     },
     "metadata": {},
     "output_type": "display_data"
    }
   ],
   "source": [
    "nx.draw_networkx_nodes(G, pos)\n",
    "nx.draw_networkx_edges(G, pos)\n",
    "plt.show()"
   ]
  },
  {
   "cell_type": "code",
   "execution_count": null,
   "id": "c548dd7b",
   "metadata": {},
   "outputs": [],
   "source": []
  }
 ],
 "metadata": {
  "kernelspec": {
   "display_name": "Python 3 (ipykernel)",
   "language": "python",
   "name": "python3"
  },
  "language_info": {
   "codemirror_mode": {
    "name": "ipython",
    "version": 3
   },
   "file_extension": ".py",
   "mimetype": "text/x-python",
   "name": "python",
   "nbconvert_exporter": "python",
   "pygments_lexer": "ipython3",
   "version": "3.9.6"
  }
 },
 "nbformat": 4,
 "nbformat_minor": 5
}

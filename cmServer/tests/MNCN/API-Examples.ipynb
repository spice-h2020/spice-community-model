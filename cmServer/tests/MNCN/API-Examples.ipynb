{
 "cells": [
  {
   "cell_type": "code",
   "execution_count": 1,
   "id": "d81e2c98",
   "metadata": {},
   "outputs": [],
   "source": [
    "import pandas as pd\n",
    "import numpy as np\n",
    "\n",
    "from context import algorithms\n",
    "from algorithms.clustering.similarityCommunityDetection import SimilarityCommunityDetection\n",
    "from algorithms.clustering.explainedCommunitiesDetection import ExplainedCommunitiesDetection\n",
    "\n",
    "from sklearn.metrics.pairwise import cosine_similarity\n",
    "\n",
    "import uuid"
   ]
  },
  {
   "cell_type": "code",
   "execution_count": 2,
   "id": "384040f9",
   "metadata": {},
   "outputs": [],
   "source": [
    "data_df = pd.read_csv('../../data/MNCN/user_profiles.csv')\n",
    "\n",
    "# Datos necesarios para los filtros\n",
    "q103_index = list(range(1,7))\n",
    "q107a_index = list(range(7, 13))\n",
    "q107b_index = list(range(13, 16))\n",
    "q110a_index = list(range(16, 18))\n",
    "q110b_index = list(range(18, len(data_df.columns)))\n",
    "\n",
    "# Questions\n",
    "questions = {\n",
    "    'q103': q103_index,\n",
    "    'q107a': q107a_index,\n",
    "    'q107b': q107b_index,\n",
    "    'q110a': q110a_index,\n",
    "    'q110b': q110b_index\n",
    "}\n",
    "\n",
    "# Diccionario de respuestas\n",
    "answers = {\n",
    "    'q103_0': 'Reduce shower time',\n",
    "    'q103_1': 'Buying less clothes',\n",
    "    'q103_2': 'Do not use products with a lot of packaging',\n",
    "    'q103_3': 'Walking to more places',\n",
    "    'q103_4': 'Reduce my waste generation',\n",
    "    'q103_5': 'Recycle correctly',\n",
    "    'q107a_0': 'Transport: By car',\n",
    "    'q107a_1': 'Transport: Walking',\n",
    "    'q107a_2': 'Transport: By bike',\n",
    "    'q107a_3': 'Transport: By bus',\n",
    "    'q107a_4': 'Transport: By underground',\n",
    "    'q107a_5': 'Transport: By En scooter',\n",
    "    'q107b_0': 'I would be willing to change means of transport',\n",
    "    'q107b_1': 'I would not be willing to change means of transport',\n",
    "    'q107b_2': 'Perhaps I would be willing to change means of transport',\n",
    "    'q110a_0': 'I had an exotic pet',\n",
    "    'q110a_1': 'I did not have an exotic pet',\n",
    "    'q110b_0': 'Adopted: florida tortoise',\n",
    "    'q110b_1': 'Adopted: common dog',\n",
    "    'q110b_2': 'Adopted: common cat',\n",
    "    'q110b_3': 'Adopted: Argentine parrot',\n",
    "    'q110b_4': 'Adopted: cockatoo',\n",
    "    'q110b_5': 'Adopted: capuchin monkey',\n",
    "}"
   ]
  },
  {
   "cell_type": "markdown",
   "id": "682c9c92",
   "metadata": {},
   "source": [
    "# Ejemplos resultados para la API\n",
    "\n",
    "En este notebook mostraremos los resultados que debe devolver la API del Community Model. Los ejemplos se obtienen de resultados reales aplicados al ejemplo del Museo Nacional de Ciencias Naturales."
   ]
  },
  {
   "cell_type": "markdown",
   "id": "14a28927",
   "metadata": {},
   "source": [
    "## Communities\n",
    "\n",
    "- `GET /communities`:"
   ]
  },
  {
   "cell_type": "code",
   "execution_count": 6,
   "id": "527e7eef",
   "metadata": {},
   "outputs": [
    {
     "data": {
      "text/plain": [
       "[{'id': '9e2e3e56-7aa9-11ec-9c5d-acbc32b03991',\n",
       "  'name': 'MNCN-0',\n",
       "  'size': 2,\n",
       "  'members': [38, 42],\n",
       "  'community-type': 'implicit',\n",
       "  'explanations': ['Reduce shower time',\n",
       "   'Walking to more places',\n",
       "   'Reduce my waste generation',\n",
       "   'Recycle correctly',\n",
       "   'Transport: Walking',\n",
       "   'Transport: By bike',\n",
       "   'Transport: By bus',\n",
       "   'Transport: By underground',\n",
       "   'I would be willing to change means of transport',\n",
       "   'I would not be willing to change means of transport',\n",
       "   'Perhaps I would be willing to change means of transport']},\n",
       " {'id': '9e2f591c-7aa9-11ec-9c5d-acbc32b03991',\n",
       "  'name': 'MNCN-1',\n",
       "  'size': 6,\n",
       "  'members': [25, 39, 43, 48, 50, 53],\n",
       "  'community-type': 'implicit',\n",
       "  'explanations': ['Buying less clothes',\n",
       "   'Walking to more places',\n",
       "   'Reduce my waste generation',\n",
       "   'Recycle correctly',\n",
       "   'Transport: By car',\n",
       "   'Transport: By bike',\n",
       "   'Transport: By underground',\n",
       "   'Transport: By En scooter',\n",
       "   'I would be willing to change means of transport']},\n",
       " {'id': '9e307b3a-7aa9-11ec-9c5d-acbc32b03991',\n",
       "  'name': 'MNCN-2',\n",
       "  'size': 6,\n",
       "  'members': [16, 24, 27, 30, 44, 54],\n",
       "  'community-type': 'implicit',\n",
       "  'explanations': ['Buying less clothes',\n",
       "   'Do not use products with a lot of packaging',\n",
       "   'Transport: By car',\n",
       "   'Transport: By bike',\n",
       "   'Transport: By underground',\n",
       "   'Transport: By En scooter',\n",
       "   'I would be willing to change means of transport',\n",
       "   'I would not be willing to change means of transport',\n",
       "   'Perhaps I would be willing to change means of transport']},\n",
       " {'id': '9e31aadc-7aa9-11ec-9c5d-acbc32b03991',\n",
       "  'name': 'MNCN-3',\n",
       "  'size': 2,\n",
       "  'members': [18, 46],\n",
       "  'community-type': 'implicit',\n",
       "  'explanations': ['Buying less clothes',\n",
       "   'Do not use products with a lot of packaging',\n",
       "   'Walking to more places',\n",
       "   'Reduce my waste generation',\n",
       "   'Recycle correctly',\n",
       "   'Transport: By bike',\n",
       "   'Transport: By bus',\n",
       "   'Transport: By underground',\n",
       "   'Transport: By En scooter',\n",
       "   'I would be willing to change means of transport',\n",
       "   'I would not be willing to change means of transport',\n",
       "   'Perhaps I would be willing to change means of transport']},\n",
       " {'id': '9e32c462-7aa9-11ec-9c5d-acbc32b03991',\n",
       "  'name': 'MNCN-4',\n",
       "  'size': 14,\n",
       "  'members': [0, 1, 2, 10, 17, 19, 20, 23, 32, 33, 34, 35, 36, 41],\n",
       "  'community-type': 'implicit',\n",
       "  'explanations': ['Buying less clothes',\n",
       "   'Transport: By car',\n",
       "   'Transport: Walking',\n",
       "   'Transport: By bike',\n",
       "   'Transport: By bus',\n",
       "   'Transport: By underground',\n",
       "   'Transport: By En scooter',\n",
       "   'I would not be willing to change means of transport']},\n",
       " {'id': '9e33c27c-7aa9-11ec-9c5d-acbc32b03991',\n",
       "  'name': 'MNCN-5',\n",
       "  'size': 21,\n",
       "  'members': [3,\n",
       "   4,\n",
       "   6,\n",
       "   8,\n",
       "   9,\n",
       "   12,\n",
       "   13,\n",
       "   14,\n",
       "   21,\n",
       "   22,\n",
       "   26,\n",
       "   28,\n",
       "   29,\n",
       "   31,\n",
       "   40,\n",
       "   45,\n",
       "   47,\n",
       "   49,\n",
       "   51,\n",
       "   55,\n",
       "   57],\n",
       "  'community-type': 'implicit',\n",
       "  'explanations': ['Reduce my waste generation',\n",
       "   'Transport: By car',\n",
       "   'Transport: By bike',\n",
       "   'I would be willing to change means of transport',\n",
       "   'I would not be willing to change means of transport',\n",
       "   'Perhaps I would be willing to change means of transport']},\n",
       " {'id': '9e34fbce-7aa9-11ec-9c5d-acbc32b03991',\n",
       "  'name': 'MNCN-6',\n",
       "  'size': 3,\n",
       "  'members': [7, 52, 59],\n",
       "  'community-type': 'implicit',\n",
       "  'explanations': ['Reduce shower time',\n",
       "   'Buying less clothes',\n",
       "   'Do not use products with a lot of packaging',\n",
       "   'Walking to more places',\n",
       "   'Reduce my waste generation',\n",
       "   'Recycle correctly',\n",
       "   'Transport: By car',\n",
       "   'Transport: Walking',\n",
       "   'Transport: By En scooter',\n",
       "   'I would be willing to change means of transport',\n",
       "   'I would not be willing to change means of transport',\n",
       "   'Perhaps I would be willing to change means of transport']},\n",
       " {'id': '9e390db8-7aa9-11ec-9c5d-acbc32b03991',\n",
       "  'name': 'MNCN-9',\n",
       "  'size': 2,\n",
       "  'members': [37, 56],\n",
       "  'community-type': 'implicit',\n",
       "  'explanations': ['Reduce shower time',\n",
       "   'Buying less clothes',\n",
       "   'Reduce my waste generation',\n",
       "   'Recycle correctly',\n",
       "   'Transport: By car',\n",
       "   'Transport: Walking',\n",
       "   'Transport: By bike',\n",
       "   'Transport: By bus',\n",
       "   'Transport: By underground',\n",
       "   'Transport: By En scooter',\n",
       "   'I would be willing to change means of transport',\n",
       "   'I would not be willing to change means of transport',\n",
       "   'Perhaps I would be willing to change means of transport']},\n",
       " {'id': '9e3a3df0-7aa9-11ec-9c5d-acbc32b03991',\n",
       "  'name': 'MNCN-10',\n",
       "  'size': 3,\n",
       "  'members': [5, 11, 15],\n",
       "  'community-type': 'implicit',\n",
       "  'explanations': ['Reduce shower time',\n",
       "   'Do not use products with a lot of packaging',\n",
       "   'Walking to more places',\n",
       "   'Reduce my waste generation',\n",
       "   'Transport: By car',\n",
       "   'Transport: Walking',\n",
       "   'Transport: By bike',\n",
       "   'Transport: By bus',\n",
       "   'Transport: By underground',\n",
       "   'Transport: By En scooter',\n",
       "   'Perhaps I would be willing to change means of transport']}]"
      ]
     },
     "execution_count": 6,
     "metadata": {},
     "output_type": "execute_result"
    }
   ],
   "source": [
    "indexes = list(range(1, 16))\n",
    "data = data_df.iloc[:,indexes]\n",
    "\n",
    "community_detection = ExplainedCommunitiesDetection(data, SimilarityCommunityDetection, 'cosine')\n",
    "n_communities, users_communities = community_detection.search_all_communities(answer_binary=True, percentage=1.0)\n",
    "\n",
    "result = list()\n",
    "\n",
    "for c in range(n_communities):\n",
    "    community_data = community_detection.get_community(c)\n",
    "    \n",
    "    if len(community_data['members']) > 1:\n",
    "        com = dict()\n",
    "        com['id'] = str(uuid.uuid1())\n",
    "        com['name'] = 'MNCN-{}'.format(community_data['name'])\n",
    "        com['size'] = len(community_data['members'])\n",
    "        com['members'] = community_data['members']\n",
    "        com['community-type'] = 'implicit'\n",
    "        com['explanations'] = []\n",
    "        \n",
    "        for k in community_data['properties'].keys():\n",
    "            com['explanations'].append(answers[k])\n",
    "            \n",
    "        result.append(com)\n",
    "        \n",
    "result"
   ]
  },
  {
   "cell_type": "markdown",
   "id": "474c147f",
   "metadata": {},
   "source": [
    "- `GET /communities/{communityId}`:"
   ]
  },
  {
   "cell_type": "code",
   "execution_count": 7,
   "id": "f6d9636c",
   "metadata": {},
   "outputs": [
    {
     "data": {
      "text/plain": [
       "{'id': '9e307b3a-7aa9-11ec-9c5d-acbc32b03991',\n",
       " 'name': 'MNCN-2',\n",
       " 'size': 6,\n",
       " 'members': [16, 24, 27, 30, 44, 54],\n",
       " 'community-type': 'implicit',\n",
       " 'explanations': ['Buying less clothes',\n",
       "  'Do not use products with a lot of packaging',\n",
       "  'Transport: By car',\n",
       "  'Transport: By bike',\n",
       "  'Transport: By underground',\n",
       "  'Transport: By En scooter',\n",
       "  'I would be willing to change means of transport',\n",
       "  'I would not be willing to change means of transport',\n",
       "  'Perhaps I would be willing to change means of transport']}"
      ]
     },
     "execution_count": 7,
     "metadata": {},
     "output_type": "execute_result"
    }
   ],
   "source": [
    "result[2]"
   ]
  },
  {
   "cell_type": "markdown",
   "id": "76a26001",
   "metadata": {},
   "source": [
    "- `GET /communities/{communityId}/users`"
   ]
  },
  {
   "cell_type": "code",
   "execution_count": 8,
   "id": "0082b4fd",
   "metadata": {},
   "outputs": [
    {
     "data": {
      "text/plain": [
       "[16, 24, 27, 30, 44, 54]"
      ]
     },
     "execution_count": 8,
     "metadata": {},
     "output_type": "execute_result"
    }
   ],
   "source": [
    "result[2]['members']"
   ]
  },
  {
   "cell_type": "markdown",
   "id": "8e8569e9",
   "metadata": {},
   "source": [
    "## Users\n",
    "\n",
    "- `GET /users/{userId}/communities` "
   ]
  },
  {
   "cell_type": "code",
   "execution_count": 12,
   "id": "b3f8c46d",
   "metadata": {},
   "outputs": [
    {
     "data": {
      "text/plain": [
       "['9e2e3e56-7aa9-11ec-9c5d-acbc32b03991',\n",
       " '9e2f591c-7aa9-11ec-9c5d-acbc32b03991']"
      ]
     },
     "execution_count": 12,
     "metadata": {},
     "output_type": "execute_result"
    }
   ],
   "source": [
    "coms = []\n",
    "for r in result[:2]:\n",
    "    coms.append(r['id'])\n",
    "    \n",
    "coms"
   ]
  },
  {
   "cell_type": "markdown",
   "id": "928c174c",
   "metadata": {},
   "source": [
    "## Similarity\n",
    "\n",
    "- `GET /communities/{communityId}/similarity`\n",
    "- `GET /communities/{communityId}/similarity/{otherCommunityId}`\n",
    "- `GET /communities/{communityId}/dissimilarity`\n",
    "- `GET /communities/{communityId}/dissimilarity/{otherCommunityId}`"
   ]
  },
  {
   "cell_type": "code",
   "execution_count": null,
   "id": "d81e3e0f",
   "metadata": {},
   "outputs": [],
   "source": []
  }
 ],
 "metadata": {
  "kernelspec": {
   "display_name": "devenv",
   "language": "python",
   "name": "python3"
  },
  "language_info": {
   "codemirror_mode": {
    "name": "ipython",
    "version": 3
   },
   "file_extension": ".py",
   "mimetype": "text/x-python",
   "name": "python",
   "nbconvert_exporter": "python",
   "pygments_lexer": "ipython3",
   "version": "3.9.12 (main, Mar 26 2022, 15:51:13) \n[Clang 12.0.0 (clang-1200.0.32.29)]"
  },
  "vscode": {
   "interpreter": {
    "hash": "f3779071b85de7c3517cf297b46ed97e40c93b74826594fc7607328977b2252b"
   }
  }
 },
 "nbformat": 4,
 "nbformat_minor": 5
}

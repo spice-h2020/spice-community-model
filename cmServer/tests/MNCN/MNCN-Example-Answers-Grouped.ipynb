{
 "cells": [
  {
   "cell_type": "code",
   "execution_count": 1,
   "id": "323d7022",
   "metadata": {},
   "outputs": [],
   "source": [
    "import pandas as pd\n",
    "import numpy as np\n",
    "\n",
    "import ipywidgets as widgets\n",
    "from ipywidgets import AppLayout\n",
    "import IPython.display as pyDis\n",
    "\n",
    "from context import algorithms\n",
    "from algorithms.clustering.similarityCommunityDetection import SimilarityCommunityDetection\n",
    "from algorithms.clustering.explainedCommunitiesDetection import ExplainedCommunitiesDetection\n",
    "from algorithms.visualization.gephiVisualization import GephiVisualization\n",
    "\n",
    "from sklearn.metrics.pairwise import cosine_similarity"
   ]
  },
  {
   "cell_type": "code",
   "execution_count": 2,
   "id": "058b9f98",
   "metadata": {},
   "outputs": [],
   "source": [
    "def transport_pollution_values(transport_polution):\n",
    "    if transport_polution == 'High':\n",
    "        return 2\n",
    "    elif transport_polution == 'Medium':\n",
    "        return 1\n",
    "    elif transport_polution == 'Low':\n",
    "        return 0\n",
    "    \n",
    "def transport_type_values(transport_type):\n",
    "    if transport_type == 'Private':\n",
    "        return 1\n",
    "    else:\n",
    "        return 0\n",
    "    \n",
    "def booleans_values(value):\n",
    "    if value:\n",
    "        return 1\n",
    "    else:\n",
    "        return 0"
   ]
  },
  {
   "cell_type": "code",
   "execution_count": 3,
   "id": "c7deef97",
   "metadata": {},
   "outputs": [],
   "source": [
    "# Load data and prepare information\n",
    "data_df = pd.read_csv('../../data/MNCN/user_profiles_grouped.csv')\n",
    "\n",
    "data_df['Transport Pollution'] = data_df['Transport Pollution'].apply(transport_pollution_values)\n",
    "data_df['Transport Type'] = data_df['Transport Type'].apply(transport_type_values)\n",
    "data_df['Reduce Consumption'] = data_df['Reduce Consumption'].apply(booleans_values)\n",
    "data_df['Change Transport'] = data_df['Change Transport'].apply(booleans_values)\n",
    "data_df['Recycle'] = data_df['Recycle'].apply(booleans_values)\n",
    "\n",
    "attributes = {\n",
    "    'Transport Pollution': ['Low (Walking, Bike)', 'Medium (Metro, Bus)', 'High (Car)'],\n",
    "    'Transport Type': ['Public (Bus, Metro)', 'Private (Car, Bike, ...)'],\n",
    "    'Reduce Consumption': ['No', 'Yes'],\n",
    "    'Change Transport': ['No', 'Yes'],\n",
    "    'Recycle': ['No', 'Yes']\n",
    "}\n",
    "\n",
    "data = None"
   ]
  },
  {
   "cell_type": "code",
   "execution_count": 4,
   "id": "cfe8f080",
   "metadata": {},
   "outputs": [],
   "source": [
    "def search_communities(data, percentage):\n",
    "    print('Percentage', percentage)\n",
    "    # Apply algorithm to detect communities\n",
    "    community_detection = ExplainedCommunitiesDetection(data, SimilarityCommunityDetection, 'cosine')\n",
    "    n_communties, users_communities = community_detection.search_all_communities(answer_binary=False, percentage=percentage)\n",
    "    \n",
    "    # Explain communities\n",
    "    users_without_community = []\n",
    "    for c in range(n_communties):\n",
    "        community_data = community_detection.get_community(c, percentage=percentage)\n",
    "        \n",
    "        if len(community_data['members']) > 1:\n",
    "        \n",
    "            print('---------------------')\n",
    "            print('COMMUNITY -', community_data['name'])\n",
    "            print('\\t- N. Members:', len(community_data['members']))\n",
    "            print('\\t- Properties:')\n",
    "\n",
    "            for k in community_data['properties'].keys():\n",
    "                print('\\t\\t-', k, community_data['properties'][k])\n",
    "        else:\n",
    "            users_without_community.extend(community_data['members'])\n",
    "            \n",
    "    print('---------------------')\n",
    "    print('N. USERS WITHOUT COMMUNITY -', len(users_without_community))\n",
    "    \n",
    "    # Incluimos la los datos las comunidades\n",
    "    data_df['community'] = users_communities.values()\n",
    "    \n",
    "    # Filtramos las comunidades con menos de 2 usuarios\n",
    "    filter_groups = data_df.groupby(by='community').count()['UserId'] < 2\n",
    "    groups_to_filter = filter_groups.index.values[filter_groups]\n",
    "    users_out = data_df[data_df['community'].isin(groups_to_filter)].index.values\n",
    "    \n",
    "    # Pintamos en Gephi\n",
    "    gv = GephiVisualization(workspace='mncn_2')\n",
    "    \n",
    "    # Preparamos los datos de usuarios y distancias\n",
    "    users = data_df[['UserId', 'School', 'Grade', 'Type', 'Zone', 'community']].values\n",
    "    data = data[~data.index.isin(users_out)]\n",
    "    distances = cosine_similarity(data)\n",
    "    \n",
    "    gv.load_community(users, distances, users_properties=['School', 'Grade', 'Type', 'Zone', 'community'])"
   ]
  },
  {
   "cell_type": "code",
   "execution_count": 5,
   "id": "d03c480f",
   "metadata": {},
   "outputs": [],
   "source": [
    "def btn_event(obj):\n",
    "    attrs = list()\n",
    "    \n",
    "    for at in questions_wid.value:\n",
    "        attrs.append(at)\n",
    "        \n",
    "    # Filtramos el dataset\n",
    "    data = data_df[attrs]\n",
    "    \n",
    "    percentage = percentage_wid.value\n",
    "    search_communities(data, percentage)"
   ]
  },
  {
   "cell_type": "code",
   "execution_count": 6,
   "id": "99066afd",
   "metadata": {},
   "outputs": [
    {
     "data": {
      "application/vnd.jupyter.widget-view+json": {
       "model_id": "f121e8fc49c14bdaaa01b6e03b3dae66",
       "version_major": 2,
       "version_minor": 0
      },
      "text/plain": [
       "AppLayout(children=(Button(description='Search', layout=Layout(grid_area='footer'), style=ButtonStyle()), Sele…"
      ]
     },
     "metadata": {},
     "output_type": "display_data"
    },
    {
     "name": "stdout",
     "output_type": "stream",
     "text": [
      "Percentage 1.0\n",
      "---------------------\n",
      "COMMUNITY - 0\n",
      "\t- N. Members: 28\n",
      "\t- Properties:\n",
      "\t\t- Transport Pollution 0\n",
      "\t\t- Transport Type 1\n",
      "---------------------\n",
      "COMMUNITY - 1\n",
      "\t- N. Members: 2\n",
      "\t- Properties:\n",
      "\t\t- Transport Pollution 0\n",
      "\t\t- Transport Type 1\n",
      "\t\t- Reduce Consumption 0\n",
      "\t\t- Change Transport 0\n",
      "\t\t- Recycle 0\n",
      "---------------------\n",
      "COMMUNITY - 2\n",
      "\t- N. Members: 30\n",
      "\t- Properties:\n",
      "\t\t- Reduce Consumption 1\n",
      "---------------------\n",
      "N. USERS WITHOUT COMMUNITY - 1\n"
     ]
    }
   ],
   "source": [
    "# Preparo la interfaz\n",
    "questions_wid = widgets.SelectMultiple(\n",
    "    options=list(attributes.keys()),\n",
    "    descriptions='Select attributes',\n",
    "    disable=False\n",
    ")\n",
    "\n",
    "percentage_wid = widgets.FloatSlider(\n",
    "    value=1.0,\n",
    "    min=0.0,\n",
    "    max=1.0,\n",
    "    step=0.01,\n",
    "    description='Min % common answers'\n",
    ")\n",
    "\n",
    "button = widgets.Button(\n",
    "    description = 'Search'\n",
    ")\n",
    "\n",
    "button.on_click(btn_event)\n",
    "AppLayout(hader=None, left_sidebar=questions_wid, center=None, right_sidebar=percentage_wid, footer=button)"
   ]
  },
  {
   "cell_type": "code",
   "execution_count": null,
   "id": "ee787887",
   "metadata": {},
   "outputs": [],
   "source": []
  }
 ],
 "metadata": {
  "kernelspec": {
   "display_name": "Python 3 (ipykernel)",
   "language": "python",
   "name": "python3"
  },
  "language_info": {
   "codemirror_mode": {
    "name": "ipython",
    "version": 3
   },
   "file_extension": ".py",
   "mimetype": "text/x-python",
   "name": "python",
   "nbconvert_exporter": "python",
   "pygments_lexer": "ipython3",
   "version": "3.9.6"
  }
 },
 "nbformat": 4,
 "nbformat_minor": 5
}

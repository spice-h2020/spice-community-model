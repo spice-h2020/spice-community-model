{
 "cells": [
  {
   "cell_type": "markdown",
   "id": "6340f5f9",
   "metadata": {
    "pycharm": {
     "name": "#%% md\n"
    }
   },
   "source": [
    "# Preparar Dataset\n",
    "\n",
    "Este notebook se encarga de extrar la información almacenada en los Excel de la carpeta `data/GAM/Result ResArtEmotion`. El resultado será un fichero json con los datos personales de los usuarios, y otro fichero json con las respuestas que ha hecho cada usuario a las obras que se muestran en la encuesta."
   ]
  },
  {
   "cell_type": "code",
   "execution_count": 2,
   "id": "6a766f4b",
   "metadata": {
    "pycharm": {
     "name": "#%%\n"
    }
   },
   "outputs": [
    {
     "ename": "ModuleNotFoundError",
     "evalue": "No module named 'pandas'",
     "output_type": "error",
     "traceback": [
      "\u001B[1;31m---------------------------------------------------------------------------\u001B[0m",
      "\u001B[1;31mModuleNotFoundError\u001B[0m                       Traceback (most recent call last)",
      "Cell \u001B[1;32mIn[2], line 1\u001B[0m\n\u001B[1;32m----> 1\u001B[0m \u001B[38;5;28;01mimport\u001B[39;00m \u001B[38;5;21;01mpandas\u001B[39;00m \u001B[38;5;28;01mas\u001B[39;00m \u001B[38;5;21;01mpd\u001B[39;00m\n",
      "\u001B[1;31mModuleNotFoundError\u001B[0m: No module named 'pandas'"
     ]
    }
   ],
   "source": [
    "import pandas as pd"
   ]
  },
  {
   "cell_type": "code",
   "execution_count": null,
   "id": "cbe3837d",
   "metadata": {
    "pycharm": {
     "name": "#%%\n"
    }
   },
   "outputs": [],
   "source": [
    "# Diccionarios\n",
    "relationship_with_art = {\n",
    "    # EN\n",
    "    'My job is related to the art world': 3,\n",
    "    'I am passionate about the art': 2,\n",
    "    'I am a little interested in art': 1,\n",
    "    'I am not interested in art': 0,\n",
    "    # ES\n",
    "    'Mi trabajo está relacionado con el mundo del arte': 3,\n",
    "    'Me apasiona el arte': 2,\n",
    "    'Me interesa un poco el arte': 1,\n",
    "    'No me interesa el arte': 0,\n",
    "    #FI\n",
    "    'Työskentelen taiteen ja kulttuurin parissa.': 3,\n",
    "    'Rakastan taidetta.': 2,\n",
    "    'Olen jonkin verran kiinnostunut taiteesta.': 1,\n",
    "    'En ole kiinnostunut taiteesta': 0,\n",
    "    # HE\n",
    "    'התפקיד שלי קשור לעולם האמנות': 3,\n",
    "    'אני נלהב מהאמנות': 2,\n",
    "    'אני קצת מתעניין באמנות': 1,\n",
    "    'אני לא מתעניין באמנות': 0,\n",
    "    # IT\n",
    "    'Il mio lavoro è legato al mondo dell\\'arte': 3,\n",
    "    'Sono appassionato/a di arte': 2,\n",
    "    'Sono un po\\' interessato/a all\\'arte': 1,\n",
    "    'Non sono interessato all\\'arte': 0\n",
    "}\n",
    "\n",
    "visit_museums = {\n",
    "    # EN\n",
    "    'I like to visit museums frequently': 2,\n",
    "    'I go occasionally to museums or art exhibitions': 1,\n",
    "    'I rarely visit museums or art exhibitions': 0,\n",
    "    # ES\n",
    "    'Me gusta visitar museos con frecuencia': 2,\n",
    "    'Voy de vez en cuando a museos o exposiciones de arte': 1,\n",
    "    'Pocas veces voy a museos o exposiciones de arte': 0,\n",
    "    # FI\n",
    "    'Käyn usein museoissa.': 2,\n",
    "    'Käyn silloin tällöin museoissa ja taidenäyttelyissä.': 1,\n",
    "    'Käyn vain harvoin museoissa tai taidenäyttelyissä.': 0,\n",
    "    # HE\n",
    "    'אני אוהב לבקר במוזיאונים לעיתים קרובות': 2,\n",
    "    'אני הולך מדי פעם למוזיאונים או לתערוכות אמנות': 1,\n",
    "    'לעתים נדירות אני מבקר במוזיאונים או בתערוכות אמנות': 0,\n",
    "    # IT\n",
    "    'Mi piace visitare spesso i musei': 2,\n",
    "    'Vado occasionalmente a musei o mostre d\\'arte': 1,\n",
    "    'Visito raramente musei o mostre d\\'arte': 0,\n",
    "}\n",
    "\n",
    "languages = ['EN', 'ES', 'FI', 'HE', 'IT']"
   ]
  },
  {
   "cell_type": "code",
   "execution_count": null,
   "id": "115ab607",
   "metadata": {
    "pycharm": {
     "name": "#%%\n"
    }
   },
   "outputs": [],
   "source": [
    "def change_art_relationship(row):\n",
    "    if isinstance(row, str):\n",
    "        options = row.split(', ')\n",
    "        return [relationship_with_art[o] for o in options]\n",
    "    else:\n",
    "        return []"
   ]
  },
  {
   "cell_type": "code",
   "execution_count": null,
   "id": "e0f0362a",
   "metadata": {
    "pycharm": {
     "name": "#%%\n"
    }
   },
   "outputs": [],
   "source": [
    "# Cargamos los datos de los cuadros\n",
    "artworks_df = pd.read_json('../../data/GAM/artworks.json')\n",
    "\n",
    "# Creamos lista de usuarios y de interacciones vacio\n",
    "users = []"
   ]
  },
  {
   "cell_type": "code",
   "execution_count": null,
   "id": "cc0173de",
   "metadata": {
    "pycharm": {
     "name": "#%%\n"
    }
   },
   "outputs": [],
   "source": [
    "id_user = 1\n",
    "interactions = list()\n",
    "\n",
    "for lang in range(len(languages)):\n",
    "\n",
    "    path = '../../data/GAM/answers/{}.xlsx'.format(languages[lang])\n",
    "    personal_data_df = pd.read_excel(path, sheet_name=\"Risposte del modulo 1\")\n",
    "\n",
    "    for row in range(len(personal_data_df)):\n",
    "        r = personal_data_df.iloc[row,:]\n",
    "\n",
    "        if isinstance(r['How would you define your relationship with Art?'], str) and isinstance(r['Do you like going to museums or art exhibitions?'], str):\n",
    "            user = {\n",
    "                'id': id_user,\n",
    "                'gender': r['Gender'],\n",
    "                'age': r['Age'],\n",
    "                'relationship_art': [relationship_with_art[o] for o in r['How would you define your relationship with Art?'].split(', ')],\n",
    "                'like_museums': visit_museums[r['Do you like going to museums or art exhibitions?']],\n",
    "                'languages': languages[lang]\n",
    "            }\n",
    "            users.append(user)\n",
    "\n",
    "            id_user += 1\n",
    "\n",
    "            first_interaction = 4\n",
    "            for art in range(1,13):\n",
    "                start_index = ((art - 1) * 5) + 4\n",
    "                end_index = start_index + 5\n",
    "\n",
    "                interaction = {\n",
    "                    'user': id_user,\n",
    "                    'artwork': art\n",
    "                }\n",
    "\n",
    "                for answer in range(start_index, end_index):\n",
    "                    q = 'q{}'.format((answer % 5) + 1)\n",
    "                    interaction[q] = r.iloc[answer]\n",
    "\n",
    "                interactions.append(interaction)"
   ]
  },
  {
   "cell_type": "code",
   "execution_count": null,
   "id": "d0078466",
   "metadata": {
    "pycharm": {
     "name": "#%%\n"
    }
   },
   "outputs": [],
   "source": [
    "pd.DataFrame(users).to_csv('../../data/GAM/clean_data/users.csv', index=False)"
   ]
  },
  {
   "cell_type": "code",
   "execution_count": null,
   "id": "686ce07b",
   "metadata": {
    "pycharm": {
     "name": "#%%\n"
    }
   },
   "outputs": [],
   "source": [
    "pd.DataFrame(interactions).to_csv('../../data/GAM/clean_data/interactions.csv', index=False)"
   ]
  },
  {
   "cell_type": "code",
   "execution_count": null,
   "id": "980a5c63",
   "metadata": {
    "pycharm": {
     "name": "#%%\n"
    }
   },
   "outputs": [],
   "source": [
    "artworks_df.to_csv('../../data/GAM/clean_data/artwors.csv', index=False)"
   ]
  }
 ],
 "metadata": {
  "kernelspec": {
   "display_name": "Python 3 (ipykernel)",
   "language": "python",
   "name": "python3"
  },
  "language_info": {
   "codemirror_mode": {
    "name": "ipython",
    "version": 3
   },
   "file_extension": ".py",
   "mimetype": "text/x-python",
   "name": "python",
   "nbconvert_exporter": "python",
   "pygments_lexer": "ipython3",
   "version": "3.9.6"
  }
 },
 "nbformat": 4,
 "nbformat_minor": 5
}